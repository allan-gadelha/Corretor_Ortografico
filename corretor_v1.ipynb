{
 "cells": [
  {
   "cell_type": "code",
   "execution_count": 12,
   "id": "0ccdc166-3375-4d8f-8e22-a8295247cf76",
   "metadata": {},
   "outputs": [],
   "source": [
    "import numpy as np\n",
    "import pandas as pd\n",
    "import math\n",
    "import csv"
   ]
  },
  {
   "cell_type": "code",
   "execution_count": null,
   "id": "8baefce7-fc90-4ac0-abde-9ee8a14001e7",
   "metadata": {},
   "outputs": [],
   "source": [
    "#Lê um arquivo de texto chamado \"Lista-de-Palavras.txt\" e armazena em um objeto do tipo DataFrame utilizando a biblioteca Pandas. \n",
    "#O parâmetro header=None indica que não há cabeçalho no arquivo e names=['Palavras'] indica que a única coluna deve ser chamada de \"Palavras\". \n",
    "#O parâmetro dtype=str especifica que o tipo de dado das colunas é string, encoding='utf-8' define a codificação do arquivo e \n",
    "#quoting=csv.QUOTE_NONE indica que não deve ser utilizada nenhuma citação para separar os campos. Por fim, na_filter=False desabilita a filtragem de valores nulos.\n",
    "df = pd.read_csv('Lista-de-Palavras.txt', header=None, names=['Palavras'], dtype=str, encoding='utf-8', quoting=csv.QUOTE_NONE, na_filter=False)\n",
    "\n",
    "#palavras_banco é uma lista que contém todas as palavras do arquivo \"Lista-de-Palavras.txt\". \n",
    "#palavras_banco_sh é uma lista que contém todas as palavras do arquivo \"Lista-de-Palavras.txt\" que não contêm o caractere '-'. Isso estava dando um problema.\n",
    "palavras_banco = df['Palavras'].tolist()\n",
    "palavras_banco_sh = [palavra for palavra in df['Palavras'] if '-' not in palavra]\n",
    "\n",
    "#Lista de palavras incorretas que serão corrigidas.\n",
    "palavras_incorretas = ['BERINJALA', 'ONOMATOPEYA', 'AXUL', 'PARALIZAR', 'ESPOJAR', 'IMPECILHO', 'UVAAZ', 'EXPECIME', 'PROESTANTISMO', 'DESECAR']"
   ]
  },
  {
   "cell_type": "code",
   "execution_count": 13,
   "id": "0a3481fa-e7a2-4423-9876-ecc45a4d98a2",
   "metadata": {},
   "outputs": [],
   "source": [
    "#nicialização de listas vazias que armazenarão as correções de cada palavra incorreta.\n",
    "correcoes_lev = []\n",
    "correcoes_ang = []\n",
    "correcoes_euc = []\n"
   ]
  },
  {
   "cell_type": "code",
   "execution_count": 14,
   "id": "10ff90af-f812-4d4b-9936-38042e8f0d94",
   "metadata": {},
   "outputs": [],
   "source": [
    "#Função que calcula a distância de Levenshtein entre duas palavras.\n",
    "def distancia_levenshtein(palavra1, palavra2):\n",
    "    m, n = len(palavra1), len(palavra2)\n",
    "    d = np.zeros((m+1, n+1), dtype=float) # altera o tipo de dado para float\n",
    "    d[:, 0] = range(m+1)\n",
    "    d[0, :] = range(n+1)\n",
    "    for j in range(1, n+1):\n",
    "        for i in range(1, m+1):\n",
    "            if palavra1[i-1] == palavra2[j-1]:\n",
    "                custo = 0\n",
    "            else:\n",
    "                custo = 1\n",
    "            d[i, j] = min(d[i-1, j] + 1,          # deletar\n",
    "                          d[i, j-1] + 1,          # inserir\n",
    "                          d[i-1, j-1] + custo)    # substituir\n",
    "    return d[m, n]"
   ]
  },
  {
   "cell_type": "code",
   "execution_count": 15,
   "id": "d9295679-c51d-42d1-b7c4-47ec5bed3666",
   "metadata": {},
   "outputs": [],
   "source": [
    "#Função que retorna as cinco menores distâncias e suas respectivas palavras\n",
    "def obter_cinco_menores(distancias, palavras):\n",
    "    df = pd.DataFrame({\"palavra\": palavras, \"distancia\": distancias})\n",
    "    df_ordenado = df.sort_values(by=\"distancia\")\n",
    "    cinco_menores = df_ordenado.head(5)\n",
    "    return list(zip(cinco_menores[\"palavra\"], cinco_menores[\"distancia\"]))"
   ]
  },
  {
   "cell_type": "code",
   "execution_count": 16,
   "id": "4496b0fc-9c5c-40a2-b6b2-838e1df485cb",
   "metadata": {},
   "outputs": [
    {
     "name": "stdout",
     "output_type": "stream",
     "text": [
      "Palavra incorreta: BERINJALA\n",
      "Distância: 1.0\tPalavra: BERINJELA\n",
      "Distância: 3.0\tPalavra: BENGALA\n",
      "Distância: 3.0\tPalavra: SERINGAL\n",
      "Distância: 4.0\tPalavra: SERENATA\n",
      "Distância: 4.0\tPalavra: GERMINAL\n",
      "Palavra incorreta: ONOMATOPEYA\n",
      "Distância: 1.0\tPalavra: ONOMATOPEIA\n",
      "Distância: 3.0\tPalavra: ONOMATOPEICO\n",
      "Distância: 5.0\tPalavra: FARMACOPEIA\n",
      "Distância: 5.0\tPalavra: ONOMASTICA\n",
      "Distância: 6.0\tPalavra: BROMATO\n",
      "Palavra incorreta: AXUL\n",
      "Distância: 1.0\tPalavra: AZUL\n",
      "Distância: 2.0\tPalavra: ATOL\n",
      "Distância: 2.0\tPalavra: SUL\n",
      "Distância: 2.0\tPalavra: UL\n",
      "Distância: 2.0\tPalavra: ATUAL\n",
      "Palavra incorreta: PARALIZAR\n",
      "Distância: 1.0\tPalavra: PARALISAR\n",
      "Distância: 2.0\tPalavra: BANALIZAR\n",
      "Distância: 2.0\tPalavra: AVALIZAR\n",
      "Distância: 2.0\tPalavra: NASALIZAR\n",
      "Distância: 2.0\tPalavra: PARAFINAR\n",
      "Palavra incorreta: ESPOJAR\n",
      "Distância: 1.0\tPalavra: ESPOSAR\n",
      "Distância: 1.0\tPalavra: DESPOJAR\n",
      "Distância: 1.0\tPalavra: ESPOCAR\n",
      "Distância: 2.0\tPalavra: ESPORA\n",
      "Distância: 2.0\tPalavra: ESFOLAR\n",
      "Palavra incorreta: IMPECILHO\n",
      "Distância: 1.0\tPalavra: EMPECILHO\n",
      "Distância: 3.0\tPalavra: IMBECIL\n",
      "Distância: 3.0\tPalavra: IMPERIO\n",
      "Distância: 3.0\tPalavra: IMPERIOSO\n",
      "Distância: 3.0\tPalavra: IMPRECISO\n",
      "Palavra incorreta: UVAAZ\n",
      "Distância: 2.0\tPalavra: UVA\n",
      "Distância: 3.0\tPalavra: USADO\n",
      "Distância: 3.0\tPalavra: FUGAZ\n",
      "Distância: 3.0\tPalavra: VIA\n",
      "Distância: 3.0\tPalavra: UIVAR\n",
      "Palavra incorreta: EXPECIME\n",
      "Distância: 1.0\tPalavra: ESPECIME\n",
      "Distância: 2.0\tPalavra: ESPECIMEN\n",
      "Distância: 2.0\tPalavra: ESPECIE\n",
      "Distância: 3.0\tPalavra: EXPELIR\n",
      "Distância: 3.0\tPalavra: EXPERTISE\n",
      "Palavra incorreta: PROESTANTISMO\n",
      "Distância: 1.0\tPalavra: PROTESTANTISMO\n",
      "Distância: 4.0\tPalavra: PROSELITISMO\n",
      "Distância: 4.0\tPalavra: ESTATISMO\n",
      "Distância: 4.0\tPalavra: DILETANTISMO\n",
      "Distância: 4.0\tPalavra: GESTALTISMO\n",
      "Palavra incorreta: DESECAR\n",
      "Distância: 1.0\tPalavra: DEFECAR\n",
      "Distância: 1.0\tPalavra: DESEJAR\n",
      "Distância: 2.0\tPalavra: DESERCAO\n",
      "Distância: 2.0\tPalavra: DESBOCAR\n",
      "Distância: 2.0\tPalavra: PESCAR\n"
     ]
    }
   ],
   "source": [
    "for palavra_incorreta in palavras_incorretas:\n",
    "    # Calcula a distância Levenshtein entre a palavra incorreta e cada palavra do banco\n",
    "    distancias = [distancia_levenshtein(palavra_incorreta, palavra_banco) for palavra_banco in palavras_banco_sh]\n",
    "    # Obtém as cinco menores distâncias e suas respectivas palavras\n",
    "    cinco_menores = obter_cinco_menores(distancias, palavras_banco_sh)\n",
    "    print(f\"Palavra incorreta: {palavra_incorreta}\")\n",
    "    for palavra, distancia in cinco_menores:\n",
    "        print(f\"Distância: {distancia}\\tPalavra: {palavra}\")\n",
    "    # Adiciona as correções à lista correcoes_lev\n",
    "    correcoes_lev.extend(cinco_menores)"
   ]
  }
 ],
 "metadata": {
  "kernelspec": {
   "display_name": "Python 3 (ipykernel)",
   "language": "python",
   "name": "python3"
  },
  "language_info": {
   "codemirror_mode": {
    "name": "ipython",
    "version": 3
   },
   "file_extension": ".py",
   "mimetype": "text/x-python",
   "name": "python",
   "nbconvert_exporter": "python",
   "pygments_lexer": "ipython3",
   "version": "3.10.9"
  }
 },
 "nbformat": 4,
 "nbformat_minor": 5
}
